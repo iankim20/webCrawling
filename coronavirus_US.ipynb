{
  "nbformat": 4,
  "nbformat_minor": 0,
  "metadata": {
    "colab": {
      "name": "coronavirus_US.ipynb",
      "provenance": [],
      "collapsed_sections": [],
      "authorship_tag": "ABX9TyMtWbd2+Gv7STDtVhASpous",
      "include_colab_link": true
    },
    "kernelspec": {
      "name": "python3",
      "display_name": "Python 3"
    }
  },
  "cells": [
    {
      "cell_type": "markdown",
      "metadata": {
        "id": "view-in-github",
        "colab_type": "text"
      },
      "source": [
        "<a href=\"https://colab.research.google.com/github/iankim20/webCrawling/blob/main/coronavirus_US.ipynb\" target=\"_parent\"><img src=\"https://colab.research.google.com/assets/colab-badge.svg\" alt=\"Open In Colab\"/></a>"
      ]
    },
    {
      "cell_type": "code",
      "metadata": {
        "id": "u3fZmVKg4DLA"
      },
      "source": [
        "from google.colab import drive\n",
        "drive.mount('/content/drive/')"
      ],
      "execution_count": null,
      "outputs": []
    },
    {
      "cell_type": "code",
      "metadata": {
        "id": "OjRiSRDo4F-3",
        "colab": {
          "base_uri": "https://localhost:8080/"
        },
        "outputId": "d5a63dd1-9560-4364-b8e0-3834d1b68bf1"
      },
      "source": [
        "%cd \"/content/drive/My Drive/WhoSearchWhat\""
      ],
      "execution_count": null,
      "outputs": [
        {
          "output_type": "stream",
          "text": [
            "/content/drive/My Drive/WhoSearchWhat\n"
          ],
          "name": "stdout"
        }
      ]
    },
    {
      "cell_type": "code",
      "metadata": {
        "id": "ib_68Dii4GBq"
      },
      "source": [
        "%pip install pytrends\n",
        "\n",
        "from pytrends.request import TrendReq\n",
        "import pandas as pd\n",
        "import numpy as np\n",
        "from datetime import *\n",
        "from time import sleep\n",
        "\n"
      ],
      "execution_count": null,
      "outputs": []
    },
    {
      "cell_type": "code",
      "metadata": {
        "id": "djSn9I9moiXR",
        "colab": {
          "base_uri": "https://localhost:8080/",
          "height": 134
        },
        "outputId": "2a7056f5-0301-45d4-d008-edbb9e6f8166"
      },
      "source": [
        "class(\"US\")"
      ],
      "execution_count": null,
      "outputs": [
        {
          "output_type": "error",
          "ename": "SyntaxError",
          "evalue": "ignored",
          "traceback": [
            "\u001b[0;36m  File \u001b[0;32m\"<ipython-input-13-772c4547055c>\"\u001b[0;36m, line \u001b[0;32m1\u001b[0m\n\u001b[0;31m    class(\"US\")\u001b[0m\n\u001b[0m         ^\u001b[0m\n\u001b[0;31mSyntaxError\u001b[0m\u001b[0;31m:\u001b[0m invalid syntax\n"
          ]
        }
      ]
    },
    {
      "cell_type": "code",
      "metadata": {
        "id": "3s6sNpJr4GEX"
      },
      "source": [
        "def get_df(startdate, enddate, keyword):\n",
        "  pass\n",
        "\n",
        "def count_over_time(y1,m1,d1, y2,m2,d2, keyword, geograph):\n",
        "  startdate = pd.Timestamp(y1,m1,d1).strftime(\"%Y-%m-%d\")\n",
        "  enddate = pd.Timestamp(y2,m2,d2).strftime(\"%Y-%m-%d\")\n",
        "\n",
        "  keyword_list = [keyword]\n",
        "  print(geograph, type(geograph), type(geograph) != str)\n",
        "  if type(geograph) != str:\n",
        "    geograph = \"\"  \n",
        "\n",
        "  pytrends = TrendReq(hl='en-US')\n",
        "  timerange = startdate + ' ' + enddate\n",
        "  pytrends.build_payload(keyword_list, timeframe = timerange, geo=geograph)\n",
        "  data =  pytrends.interest_over_time()\n",
        "  data = data[keyword_list]\n",
        "\n",
        "  return data\n",
        "\n",
        "# def count_by_region(y1,m1,d1, y2,m2,d2, keyword):\n",
        "#   startdate = pd.Timestamp(y1,m1,d1).strftime(\"%Y-%m-%d\")\n",
        "#   enddate = pd.Timestamp(y2,m2,d2).strftime(\"%Y-%m-%d\")\n",
        "\n",
        "#  keyword_list = [keyword]\n",
        "\n",
        "#   pytrends = TrendReq(hl='en-US')\n",
        "#   timerange = startdate + ' ' + enddate\n",
        "#   pytrends.build_payload(keyword_list, timeframe = timerange)\n",
        "#   data =  pytrends.interest_by_region()\n",
        "#   data = data[keyword_list]\n",
        "\n",
        "#   return data\n",
        "\n",
        "def count_by_region(date, keyword, geograph):\n",
        "  startdate = date.strftime(\"%Y-%m-%d\")\n",
        "  # enddate = pd.Timestamp(y2,m2,d2).strftime(\"%Y-%m-%d\")\n",
        "\n",
        "  keyword_list = [keyword]\n",
        "  if type(geograph) != str:\n",
        "    geograph = \"\"\n",
        "\n",
        "  pytrends = TrendReq(hl='en-US')\n",
        "  timerange = startdate + ' ' + startdate\n",
        "  pytrends.build_payload(keyword_list, timeframe = timerange, geo=geograph)\n",
        "  data =  pytrends.interest_by_region(resolution=\"Region\")\n",
        "  data = data[keyword_list]\n",
        "\n",
        "  return data\n",
        "\n",
        "\n",
        "def count_sum_from(data,y,m,d):\n",
        "  index = data.index >= pd.Timestamp(y,m,d)\n",
        "  count_from = sum(data.iloc[index,0])\n",
        "\n",
        "  return count_from\n",
        "\n",
        "def count_sum_before(data,y,m,d):\n",
        "  index = data.index <= pd.Timestamp(y,m,d)\n",
        "  count_before = sum(data.iloc[index,0])\n",
        "\n",
        "  return count_before\n",
        "\n",
        "def count_sum_between(data,y1,m1,d1,y2,m2,d2):\n",
        "  index = (data.index >= pd.Timestamp(y1,m1,d1)) & (data.index <= pd.Timestamp(y2,m2,d2))\n",
        "  count_between = sum(data.iloc[index,0])\n",
        "\n",
        "  return count_between\n",
        "\n",
        "\n"
      ],
      "execution_count": null,
      "outputs": []
    },
    {
      "cell_type": "code",
      "metadata": {
        "id": "xtPI73dJ4GHC"
      },
      "source": [
        "#If needed to see whole rows of a dataframe\n",
        "\n",
        "# pd.set_option('display.max_rows', 100)\n",
        "# pd.set_option('display.max_rows', None)"
      ],
      "execution_count": null,
      "outputs": []
    },
    {
      "cell_type": "code",
      "metadata": {
        "id": "BHy3FpNh4GJv"
      },
      "source": [
        "pytrends = TrendReq(hl='en-US')     \n",
        "keyword = \"coronavirus\""
      ],
      "execution_count": null,
      "outputs": []
    },
    {
      "cell_type": "code",
      "metadata": {
        "id": "qLWAdH8S4GOp",
        "colab": {
          "base_uri": "https://localhost:8080/"
        },
        "outputId": "3fdf9500-a16d-42df-d55e-b1c86b50e0bf"
      },
      "source": [
        "# timerange = startdate + ' ' + enddate\n",
        "# timerange\n",
        "# pytrends.build_payload(keyword, timeframe = timerange)\n",
        "\n",
        "data_total = count_over_time(2019,11,1,2020,11,3,keyword, \"US\")\n",
        "\n",
        "data3 = count_over_time(2020,7,1,2020,11,3,keyword, \"US\")\n",
        "from_3to_total = count_sum_from(data_total,2020,7,1)*7/count_sum_from(data3,2020,7,1)\n",
        "\n",
        "data2 = count_over_time(2019,11,1,2020,6,30,keyword, \"US\")\n",
        "from_2to_total = count_sum_before(data_total,2020,6,30)*7/count_sum_before(data2,2020,6,30)\n",
        "\n",
        "data1 = count_over_time(2019,11,1,2020,1,21,keyword, \"US\")\n",
        "from_1to_total = (count_sum_between(data2,2020,1,21,2020,1,21)/count_sum_between(data1,2020,1,21,2020,1,21)) * from_2to_total\n",
        "\n",
        "data0 = count_over_time(2019,11,1,2020,1,11,keyword, \"US\")\n",
        "from_0to_total = (count_sum_between(data1,2020,1,11,2020,1,11)/count_sum_between(data0,2020,1,11,2020,1,11)) * from_1to_total\n",
        "\n",
        "data_reg = count_by_region(date(2020,11,8),keyword, \"US\")\n",
        "region_list = data_reg.index.tolist()\n",
        "\n"
      ],
      "execution_count": null,
      "outputs": [
        {
          "output_type": "execute_result",
          "data": {
            "text/plain": [
              "0.00038143516351233866"
            ]
          },
          "metadata": {
            "tags": []
          },
          "execution_count": 51
        }
      ]
    },
    {
      "cell_type": "code",
      "metadata": {
        "id": "3ZVBhZ9dn5jg"
      },
      "source": [
        "from random import randint\n",
        "from time import sleep\n",
        "\n",
        "\n",
        "list = pd.date_range(start=\"2019-11-1\",end=\"2020-11-3\").to_pydatetime().tolist()"
      ],
      "execution_count": null,
      "outputs": []
    },
    {
      "cell_type": "code",
      "metadata": {
        "id": "8x4bPTnh7x7W"
      },
      "source": [
        "date = datetime(2019,11,25)"
      ],
      "execution_count": null,
      "outputs": []
    },
    {
      "cell_type": "code",
      "metadata": {
        "id": "5MX6b64Mn5hR"
      },
      "source": [
        "total_dataframe = pd.DataFrame(columns=['state'])\n",
        "total_dataframe['state']=region_list\n",
        "\n",
        "count = 0 \n",
        "key = 0\n",
        "checkpoint = 0\n",
        "sleeps = []\n",
        "for i in range(len(list)):\n",
        "  date = list[i]\n",
        "  sleeptime = randint(1,123)/100\n",
        "  colname = date.strftime(\"%Y-%m-%d\")\n",
        "  # print(\"sleeping for:\", sleeptime, \"seconds\")\n",
        "\n",
        "  df = count_by_region(date,keyword, \"US\")                      #특정 날의 전세계 데이터\n",
        "\n",
        "  if sum(df.iloc[:,0]) == 0:\n",
        "    key =1\n",
        "    checkpoint = i\n",
        "\n",
        "  if sum(df.iloc[:,0]) != 0:\n",
        "    if date <= datetime(2020,1,11):\n",
        "      df /= sum(df.iloc[:,0])                                       #그 날 내에서 각 국가의 검색수를 모든 국가합으로 나눈 것.\n",
        "      df *= data0.at[colname,keyword]                         #각 날의 값의 곱해준다.\n",
        "      df *= from_0to_total                                          #그 날의 값이 전체 timeframe 에서 나타내는 비율이 얼마인지 (위에서 '전체frame 합/국소 frame 합'으로 구한 것)\n",
        "      \n",
        "    elif (date > datetime(2020,1,11)) & (date <= datetime(2020,1,21)):\n",
        "      sleeptime = randint(1,450)/100\n",
        "      df /= sum(df.iloc[:,0])\n",
        "      df *= data1.at[colname,keyword]    \n",
        "      df *= from_1to_total\n",
        "\n",
        "    elif (date > datetime(2020,1,21)) & (date <= datetime(2020,6,30)):\n",
        "      df /= sum(df.iloc[:,0])\n",
        "      df *= data2.at[colname,keyword]\n",
        "      df *= from_2to_total\n",
        "      \n",
        "    elif (date > datetime(2020,6,30)) & (date <= datetime(2020,11,3)):\n",
        "      sleeptime = randint(1,790)/100\n",
        "      df /= sum(df.iloc[:,0])\n",
        "      df *= data3.at[colname,keyword]\n",
        "      df *= from_3to_total\n",
        "    \n",
        "    else:\n",
        "      print(\"something's wrong\")\n",
        "    \n",
        "    if key==1:\n",
        "      ref_name = list[checkpoint-1].strftime(\"%Y-%m-%d\")\n",
        "      ref_day = total_dataframe[ref_name]\n",
        "      fin_day = df.iloc[:,0].values\n",
        "      wow = 1\n",
        "      for id in range(checkpoint, i):\n",
        "        delta = (fin_day - ref_day)/(i+1-checkpoint)\n",
        "        col_name = list[id].strftime(\"%Y-%m-%d\")\n",
        "        total_dataframe[col_name]=ref_day + delta*wow\n",
        "        wow += 1\n",
        "      \n",
        "      key=0\n",
        "\n",
        "    \n",
        "  mini_df = pd.DataFrame(df.iloc[:,0].tolist(),columns=[colname])\n",
        "  \n",
        "\n",
        "  if (count/50).is_integer():\n",
        "    print(\"sleeping for:\", sleeptime, \"seconds\")\n",
        "    print(\"we are now at : \", date)\n",
        "    print(\"sleeping is over\")\n",
        "  \n",
        "  total_dataframe = pd.concat([total_dataframe,mini_df], axis=1)\n",
        "  count+=1\n",
        "  sleeps.append(sleeptime)\n",
        "\n",
        "  sleep(sleeptime)\n",
        "  # print(\"sleeping is over\")\n",
        "\n",
        "\n",
        "\n",
        "# pd.timedelta_range(pd.Timestamp(2020,11,1),pd.Timestamp(2020,11,3))\n",
        "\n",
        "# pd.Timestamp(2020,11,8) - pd.Timestamep(2019,11,1)\n",
        "\n"
      ],
      "execution_count": null,
      "outputs": []
    },
    {
      "cell_type": "code",
      "metadata": {
        "id": "7l1XNT1hs1wK"
      },
      "source": [
        "total_dataframe.to_csv('./coronavirus/US_20191101_20201103_ratio.csv', index=False)"
      ],
      "execution_count": null,
      "outputs": []
    },
    {
      "cell_type": "code",
      "metadata": {
        "id": "cHGeRx4Qs1yN"
      },
      "source": [
        "num = 22298937/(count_sum_before(data_total,2020,11,3)/12)\n",
        "\n",
        "# https://app.kwfinder.com/dashboard?language_id=0&location_id=2840&query=coronavirus&source_id=0"
      ],
      "execution_count": null,
      "outputs": []
    },
    {
      "cell_type": "code",
      "metadata": {
        "id": "VgxrjPh9s1uD"
      },
      "source": [
        "real_total = total_dataframe\n",
        "real_total.iloc[:,1:len(total_dataframe.columns)] = total_dataframe.iloc[:,1:len(total_dataframe.columns)] * num\n"
      ],
      "execution_count": null,
      "outputs": []
    },
    {
      "cell_type": "code",
      "metadata": {
        "id": "Vfr-9XNh5hbP"
      },
      "source": [
        "cum_real_total = real_total\n",
        "\n",
        "for i in range(len(total_dataframe.columns)-3):\n",
        "  delta = cum_real_total.iloc[:,i+2]\n",
        "  cum_real_total.iloc[:,i+2]=delta + cum_real_total.iloc[:,i+1]\n",
        "\n",
        "cum_real_total.to_csv('./coronavirus/US_20191101_20201103_cum_real.csv', index=False)"
      ],
      "execution_count": null,
      "outputs": []
    },
    {
      "cell_type": "code",
      "metadata": {
        "id": "JuMl3WUL5hgr"
      },
      "source": [
        ""
      ],
      "execution_count": null,
      "outputs": []
    },
    {
      "cell_type": "code",
      "metadata": {
        "id": "B0PJkA6W5heO",
        "colab": {
          "base_uri": "https://localhost:8080/",
          "height": 294
        },
        "outputId": "d44e6c1c-d944-4023-a139-3ba0982a9d70"
      },
      "source": [
        "import matplotlib.pyplot as plt\n",
        "\n",
        "plt.figure(figsize=(18,4))\n",
        "\n",
        "plt.scatter(x=range(369), y=cum_real_total.iloc[20,1:])"
      ],
      "execution_count": null,
      "outputs": [
        {
          "output_type": "execute_result",
          "data": {
            "text/plain": [
              "<matplotlib.collections.PathCollection at 0x7fae3f6cd5c0>"
            ]
          },
          "metadata": {
            "tags": []
          },
          "execution_count": 153
        },
        {
          "output_type": "display_data",
          "data": {
            "image/png": "[encoded data removed]",
            "text/plain": [
              "<Figure size 1296x288 with 1 Axes>"
            ]
          },
          "metadata": {
            "tags": [],
            "needs_background": "light"
          }
        }
      ]
    },
    {
      "cell_type": "code",
      "metadata": {
        "id": "zRmBG6t75hYh",
        "colab": {
          "base_uri": "https://localhost:8080/",
          "height": 446
        },
        "outputId": "d07659ab-86fd-4ef5-dd6b-b04713e82934"
      },
      "source": [
        "import numpy as np\n",
        "import matplotlib.pyplot as plt\n",
        "\n",
        "plt.figure(figsize=(18,7))\n",
        "plt.scatter(x=range(len(sleeps)), y=np.asarray(sleeps))"
      ],
      "execution_count": null,
      "outputs": [
        {
          "output_type": "execute_result",
          "data": {
            "text/plain": [
              "<matplotlib.collections.PathCollection at 0x7fae3ff64978>"
            ]
          },
          "metadata": {
            "tags": []
          },
          "execution_count": 64
        },
        {
          "output_type": "display_data",
          "data": {
            "image/png": "[encoded data removed]",
            "text/plain": [
              "<Figure size 1296x504 with 1 Axes>"
            ]
          },
          "metadata": {
            "tags": [],
            "needs_background": "light"
          }
        }
      ]
    }
  ]
}