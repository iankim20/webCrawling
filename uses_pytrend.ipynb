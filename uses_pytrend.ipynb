{
  "nbformat": 4,
  "nbformat_minor": 0,
  "metadata": {
    "colab": {
      "name": "uses pytrend.ipynb",
      "provenance": [],
      "collapsed_sections": [],
      "authorship_tag": "ABX9TyMrx7Jzso/zUjaDsjYZHo5A",
      "include_colab_link": true
    },
    "kernelspec": {
      "name": "python3",
      "display_name": "Python 3"
    }
  },
  "cells": [
    {
      "cell_type": "markdown",
      "metadata": {
        "id": "view-in-github",
        "colab_type": "text"
      },
      "source": [
        "<a href=\"https://colab.research.google.com/github/iankim20/webCrawling/blob/main/uses_pytrend.ipynb\" target=\"_parent\"><img src=\"https://colab.research.google.com/assets/colab-badge.svg\" alt=\"Open In Colab\"/></a>"
      ]
    },
    {
      "cell_type": "code",
      "metadata": {
        "id": "nYPbdb87BU1N",
        "colab": {
          "base_uri": "https://localhost:8080/"
        },
        "outputId": "eaf24d12-30b4-4ae1-e19e-c0fffc730241"
      },
      "source": [
        "from google.colab import drive\n",
        "drive.mount('/content/drive/')"
      ],
      "execution_count": null,
      "outputs": [
        {
          "output_type": "stream",
          "text": [
            "Drive already mounted at /content/drive/; to attempt to forcibly remount, call drive.mount(\"/content/drive/\", force_remount=True).\n"
          ],
          "name": "stdout"
        }
      ]
    },
    {
      "cell_type": "code",
      "metadata": {
        "id": "gtONlvc7BZnT",
        "colab": {
          "base_uri": "https://localhost:8080/"
        },
        "outputId": "340d03c1-f27f-4947-c728-b8ffa88e2bf0"
      },
      "source": [
        "%cd \"/content/drive/My Drive/WhoSearchWhat\""
      ],
      "execution_count": null,
      "outputs": [
        {
          "output_type": "stream",
          "text": [
            "/content/drive/My Drive/WhoSearchWhat\n"
          ],
          "name": "stdout"
        }
      ]
    },
    {
      "cell_type": "code",
      "metadata": {
        "id": "b9hDd7jq-fqQ",
        "colab": {
          "base_uri": "https://localhost:8080/"
        },
        "outputId": "4b1cd90f-19af-4309-ed7f-6ba49dc4a0f5"
      },
      "source": [
        "pip install pytrends\n"
      ],
      "execution_count": null,
      "outputs": [
        {
          "output_type": "stream",
          "text": [
            "Requirement already satisfied: pytrends in /usr/local/lib/python3.6/dist-packages (4.7.3)\n",
            "Requirement already satisfied: pandas>=0.25 in /usr/local/lib/python3.6/dist-packages (from pytrends) (1.1.4)\n",
            "Requirement already satisfied: requests in /usr/local/lib/python3.6/dist-packages (from pytrends) (2.23.0)\n",
            "Requirement already satisfied: lxml in /usr/local/lib/python3.6/dist-packages (from pytrends) (4.2.6)\n",
            "Requirement already satisfied: numpy>=1.15.4 in /usr/local/lib/python3.6/dist-packages (from pandas>=0.25->pytrends) (1.18.5)\n",
            "Requirement already satisfied: python-dateutil>=2.7.3 in /usr/local/lib/python3.6/dist-packages (from pandas>=0.25->pytrends) (2.8.1)\n",
            "Requirement already satisfied: pytz>=2017.2 in /usr/local/lib/python3.6/dist-packages (from pandas>=0.25->pytrends) (2018.9)\n",
            "Requirement already satisfied: urllib3!=1.25.0,!=1.25.1,<1.26,>=1.21.1 in /usr/local/lib/python3.6/dist-packages (from requests->pytrends) (1.24.3)\n",
            "Requirement already satisfied: certifi>=2017.4.17 in /usr/local/lib/python3.6/dist-packages (from requests->pytrends) (2020.6.20)\n",
            "Requirement already satisfied: idna<3,>=2.5 in /usr/local/lib/python3.6/dist-packages (from requests->pytrends) (2.10)\n",
            "Requirement already satisfied: chardet<4,>=3.0.2 in /usr/local/lib/python3.6/dist-packages (from requests->pytrends) (3.0.4)\n",
            "Requirement already satisfied: six>=1.5 in /usr/local/lib/python3.6/dist-packages (from python-dateutil>=2.7.3->pandas>=0.25->pytrends) (1.15.0)\n"
          ],
          "name": "stdout"
        }
      ]
    },
    {
      "cell_type": "code",
      "metadata": {
        "id": "iElzI6Y5S0o-"
      },
      "source": [
        "# using crawlera for proxy\n",
        "\n",
        "import requests\n",
        "import random\n",
        "from bs4 import BeautifulSoup as bs\n",
        "\n",
        "\n",
        "# url = \"http://icanhazip.com\"\n",
        "# proxy_host = \"proxy.crawlera.com\"\n",
        "# proxy_port = \"8010\"\n",
        "# proxy_auth = \"<APIKEY>:\"\n",
        "# proxies = {\n",
        "#        \"https\": f\"https://{proxy_auth}@{proxy_host}:{proxy_port}/\",\n",
        "#        \"http\": f\"http://{proxy_auth}@{proxy_host}:{proxy_port}/\"\n",
        "# }\n",
        "\n",
        "# r = requests.get(url, proxies=proxies, verify=False)\n",
        "\n",
        "\n",
        "\n",
        "def get_free_proxies():\n",
        "    url = \"https://free-proxy-list.net/\"\n",
        "    # get the HTTP response and construct soup object\n",
        "    soup = bs(requests.get(url).content, \"html.parser\")\n",
        "    proxies = []\n",
        "    for row in soup.find(\"table\", attrs={\"id\": \"proxylisttable\"}).find_all(\"tr\")[1:]:\n",
        "        tds = row.find_all(\"td\")\n",
        "        try:\n",
        "            ip = tds[0].text.strip()\n",
        "            port = tds[1].text.strip()\n",
        "            host = f\"{ip}:{port}\"\n",
        "            proxies.append(host)\n",
        "        except IndexError:\n",
        "            continue\n",
        "    return proxies\n",
        "\n",
        "proxies=get_free_proxies()\n",
        "\n",
        "proxies = [\n",
        "    '167.172.248.53:3128',\n",
        "    '194.226.34.132:5555',\n",
        "    '203.202.245.62:80',\n",
        "    '141.0.70.211:8080',\n",
        "    '118.69.50.155:80',\n",
        "    '201.55.164.177:3128',\n",
        "    '51.15.166.107:3128',\n",
        "    '91.205.218.64:80',\n",
        "    '128.199.237.57:8080',\n",
        "]\n",
        "\n",
        "def get_session(proxies):\n",
        "    # construct an HTTP session\n",
        "    session = requests.Session()\n",
        "    # choose one random proxy\n",
        "    proxy = random.choice(proxies)\n",
        "    session.proxies = {\"http\": proxy, \"https\": proxy}\n",
        "    return session\n",
        "\n",
        "s = get_session(['118.33.73.149'])\n",
        "print(\"Request page with IP:\", s.get(\"http://icanhazip.com\", timeout=1.5).text.strip())\n",
        "\n",
        "proxies = {\"http\": \"http://118.33.73.149:8899\",\n",
        "           \"https\": \"http://118.33.73.149:8899\"}\n",
        "requests.get(\"http://icanhazip.com\", proxies=proxies, timeout=1.5)\n",
        "\n",
        "for i in range(10):\n",
        "    s = get_session(proxies)\n",
        "    try:\n",
        "        print(\"Request page with IP:\", s.get(\"http://icanhazip.com\", timeout=1.5).text.strip())\n",
        "    except Exception as e:\n",
        "        continue"
      ],
      "execution_count": null,
      "outputs": []
    },
    {
      "cell_type": "code",
      "metadata": {
        "id": "JFGDnR4XBZk2"
      },
      "source": [
        "from pytrends.request import TrendReq\n",
        "import pandas as pd\n",
        "from datetime import *\n",
        "from time import sleep\n",
        "\n"
      ],
      "execution_count": null,
      "outputs": []
    },
    {
      "cell_type": "code",
      "metadata": {
        "id": "b0bCTyNs_kIo",
        "colab": {
          "base_uri": "https://localhost:8080/",
          "height": 316
        },
        "outputId": "58580f46-8a01-4aab-d342-36e7feac2d5e"
      },
      "source": [
        "# pytrends = TrendReq(hl='en-US', tz=360, timeout=(10,25), proxies=['https://34.203.233.13:80',], retries=2, backoff_factor=0.1)"
      ],
      "execution_count": null,
      "outputs": [
        {
          "output_type": "error",
          "ename": "KeyboardInterrupt",
          "evalue": "ignored",
          "traceback": [
            "\u001b[0;31m---------------------------------------------------------------------------\u001b[0m",
            "\u001b[0;31mKeyboardInterrupt\u001b[0m                         Traceback (most recent call last)",
            "\u001b[0;32m<ipython-input-7-fccba268c3d9>\u001b[0m in \u001b[0;36m<module>\u001b[0;34m()\u001b[0m\n\u001b[0;32m----> 1\u001b[0;31m \u001b[0mpytrends\u001b[0m \u001b[0;34m=\u001b[0m \u001b[0mTrendReq\u001b[0m\u001b[0;34m(\u001b[0m\u001b[0mhl\u001b[0m\u001b[0;34m=\u001b[0m\u001b[0;34m'en-US'\u001b[0m\u001b[0;34m,\u001b[0m \u001b[0mtz\u001b[0m\u001b[0;34m=\u001b[0m\u001b[0;36m360\u001b[0m\u001b[0;34m,\u001b[0m \u001b[0mtimeout\u001b[0m\u001b[0;34m=\u001b[0m\u001b[0;34m(\u001b[0m\u001b[0;36m10\u001b[0m\u001b[0;34m,\u001b[0m\u001b[0;36m25\u001b[0m\u001b[0;34m)\u001b[0m\u001b[0;34m,\u001b[0m \u001b[0mproxies\u001b[0m\u001b[0;34m=\u001b[0m\u001b[0;34m[\u001b[0m\u001b[0;34m'https://34.203.233.13:80'\u001b[0m\u001b[0;34m,\u001b[0m\u001b[0;34m]\u001b[0m\u001b[0;34m,\u001b[0m \u001b[0mretries\u001b[0m\u001b[0;34m=\u001b[0m\u001b[0;36m2\u001b[0m\u001b[0;34m,\u001b[0m \u001b[0mbackoff_factor\u001b[0m\u001b[0;34m=\u001b[0m\u001b[0;36m0.1\u001b[0m\u001b[0;34m)\u001b[0m\u001b[0;34m\u001b[0m\u001b[0;34m\u001b[0m\u001b[0m\n\u001b[0m",
            "\u001b[0;32m/usr/local/lib/python3.6/dist-packages/pytrends/request.py\u001b[0m in \u001b[0;36m__init__\u001b[0;34m(self, hl, tz, geo, timeout, proxies, retries, backoff_factor, requests_args)\u001b[0m\n\u001b[1;32m     56\u001b[0m         \u001b[0mself\u001b[0m\u001b[0;34m.\u001b[0m\u001b[0mproxy_index\u001b[0m \u001b[0;34m=\u001b[0m \u001b[0;36m0\u001b[0m\u001b[0;34m\u001b[0m\u001b[0;34m\u001b[0m\u001b[0m\n\u001b[1;32m     57\u001b[0m         \u001b[0mself\u001b[0m\u001b[0;34m.\u001b[0m\u001b[0mrequests_args\u001b[0m \u001b[0;34m=\u001b[0m \u001b[0mrequests_args\u001b[0m \u001b[0;32mor\u001b[0m \u001b[0;34m{\u001b[0m\u001b[0;34m}\u001b[0m\u001b[0;34m\u001b[0m\u001b[0;34m\u001b[0m\u001b[0m\n\u001b[0;32m---> 58\u001b[0;31m         \u001b[0mself\u001b[0m\u001b[0;34m.\u001b[0m\u001b[0mcookies\u001b[0m \u001b[0;34m=\u001b[0m \u001b[0mself\u001b[0m\u001b[0;34m.\u001b[0m\u001b[0mGetGoogleCookie\u001b[0m\u001b[0;34m(\u001b[0m\u001b[0;34m)\u001b[0m\u001b[0;34m\u001b[0m\u001b[0;34m\u001b[0m\u001b[0m\n\u001b[0m\u001b[1;32m     59\u001b[0m         \u001b[0;31m# intialize widget payloads\u001b[0m\u001b[0;34m\u001b[0m\u001b[0;34m\u001b[0m\u001b[0;34m\u001b[0m\u001b[0m\n\u001b[1;32m     60\u001b[0m         \u001b[0mself\u001b[0m\u001b[0;34m.\u001b[0m\u001b[0mtoken_payload\u001b[0m \u001b[0;34m=\u001b[0m \u001b[0mdict\u001b[0m\u001b[0;34m(\u001b[0m\u001b[0;34m)\u001b[0m\u001b[0;34m\u001b[0m\u001b[0;34m\u001b[0m\u001b[0m\n",
            "\u001b[0;32m/usr/local/lib/python3.6/dist-packages/pytrends/request.py\u001b[0m in \u001b[0;36mGetGoogleCookie\u001b[0;34m(self)\u001b[0m\n\u001b[1;32m     80\u001b[0m                     \u001b[0mtimeout\u001b[0m\u001b[0;34m=\u001b[0m\u001b[0mself\u001b[0m\u001b[0;34m.\u001b[0m\u001b[0mtimeout\u001b[0m\u001b[0;34m,\u001b[0m\u001b[0;34m\u001b[0m\u001b[0;34m\u001b[0m\u001b[0m\n\u001b[1;32m     81\u001b[0m                     \u001b[0mproxies\u001b[0m\u001b[0;34m=\u001b[0m\u001b[0mproxy\u001b[0m\u001b[0;34m,\u001b[0m\u001b[0;34m\u001b[0m\u001b[0;34m\u001b[0m\u001b[0m\n\u001b[0;32m---> 82\u001b[0;31m                     \u001b[0;34m**\u001b[0m\u001b[0mself\u001b[0m\u001b[0;34m.\u001b[0m\u001b[0mrequests_args\u001b[0m\u001b[0;34m\u001b[0m\u001b[0;34m\u001b[0m\u001b[0m\n\u001b[0m\u001b[1;32m     83\u001b[0m                 ).cookies.items()))\n\u001b[1;32m     84\u001b[0m             \u001b[0;32mexcept\u001b[0m \u001b[0mrequests\u001b[0m\u001b[0;34m.\u001b[0m\u001b[0mexceptions\u001b[0m\u001b[0;34m.\u001b[0m\u001b[0mProxyError\u001b[0m\u001b[0;34m:\u001b[0m\u001b[0;34m\u001b[0m\u001b[0;34m\u001b[0m\u001b[0m\n",
            "\u001b[0;32m/usr/local/lib/python3.6/dist-packages/requests/api.py\u001b[0m in \u001b[0;36mget\u001b[0;34m(url, params, **kwargs)\u001b[0m\n\u001b[1;32m     74\u001b[0m \u001b[0;34m\u001b[0m\u001b[0m\n\u001b[1;32m     75\u001b[0m     \u001b[0mkwargs\u001b[0m\u001b[0;34m.\u001b[0m\u001b[0msetdefault\u001b[0m\u001b[0;34m(\u001b[0m\u001b[0;34m'allow_redirects'\u001b[0m\u001b[0;34m,\u001b[0m \u001b[0;32mTrue\u001b[0m\u001b[0;34m)\u001b[0m\u001b[0;34m\u001b[0m\u001b[0;34m\u001b[0m\u001b[0m\n\u001b[0;32m---> 76\u001b[0;31m     \u001b[0;32mreturn\u001b[0m \u001b[0mrequest\u001b[0m\u001b[0;34m(\u001b[0m\u001b[0;34m'get'\u001b[0m\u001b[0;34m,\u001b[0m \u001b[0murl\u001b[0m\u001b[0;34m,\u001b[0m \u001b[0mparams\u001b[0m\u001b[0;34m=\u001b[0m\u001b[0mparams\u001b[0m\u001b[0;34m,\u001b[0m \u001b[0;34m**\u001b[0m\u001b[0mkwargs\u001b[0m\u001b[0;34m)\u001b[0m\u001b[0;34m\u001b[0m\u001b[0;34m\u001b[0m\u001b[0m\n\u001b[0m\u001b[1;32m     77\u001b[0m \u001b[0;34m\u001b[0m\u001b[0m\n\u001b[1;32m     78\u001b[0m \u001b[0;34m\u001b[0m\u001b[0m\n",
            "\u001b[0;32m/usr/local/lib/python3.6/dist-packages/requests/api.py\u001b[0m in \u001b[0;36mrequest\u001b[0;34m(method, url, **kwargs)\u001b[0m\n\u001b[1;32m     59\u001b[0m     \u001b[0;31m# cases, and look like a memory leak in others.\u001b[0m\u001b[0;34m\u001b[0m\u001b[0;34m\u001b[0m\u001b[0;34m\u001b[0m\u001b[0m\n\u001b[1;32m     60\u001b[0m     \u001b[0;32mwith\u001b[0m \u001b[0msessions\u001b[0m\u001b[0;34m.\u001b[0m\u001b[0mSession\u001b[0m\u001b[0;34m(\u001b[0m\u001b[0;34m)\u001b[0m \u001b[0;32mas\u001b[0m \u001b[0msession\u001b[0m\u001b[0;34m:\u001b[0m\u001b[0;34m\u001b[0m\u001b[0;34m\u001b[0m\u001b[0m\n\u001b[0;32m---> 61\u001b[0;31m         \u001b[0;32mreturn\u001b[0m \u001b[0msession\u001b[0m\u001b[0;34m.\u001b[0m\u001b[0mrequest\u001b[0m\u001b[0;34m(\u001b[0m\u001b[0mmethod\u001b[0m\u001b[0;34m=\u001b[0m\u001b[0mmethod\u001b[0m\u001b[0;34m,\u001b[0m \u001b[0murl\u001b[0m\u001b[0;34m=\u001b[0m\u001b[0murl\u001b[0m\u001b[0;34m,\u001b[0m \u001b[0;34m**\u001b[0m\u001b[0mkwargs\u001b[0m\u001b[0;34m)\u001b[0m\u001b[0;34m\u001b[0m\u001b[0;34m\u001b[0m\u001b[0m\n\u001b[0m\u001b[1;32m     62\u001b[0m \u001b[0;34m\u001b[0m\u001b[0m\n\u001b[1;32m     63\u001b[0m \u001b[0;34m\u001b[0m\u001b[0m\n",
            "\u001b[0;32m/usr/local/lib/python3.6/dist-packages/requests/sessions.py\u001b[0m in \u001b[0;36mrequest\u001b[0;34m(self, method, url, params, data, headers, cookies, files, auth, timeout, allow_redirects, proxies, hooks, stream, verify, cert, json)\u001b[0m\n\u001b[1;32m    528\u001b[0m         }\n\u001b[1;32m    529\u001b[0m         \u001b[0msend_kwargs\u001b[0m\u001b[0;34m.\u001b[0m\u001b[0mupdate\u001b[0m\u001b[0;34m(\u001b[0m\u001b[0msettings\u001b[0m\u001b[0;34m)\u001b[0m\u001b[0;34m\u001b[0m\u001b[0;34m\u001b[0m\u001b[0m\n\u001b[0;32m--> 530\u001b[0;31m         \u001b[0mresp\u001b[0m \u001b[0;34m=\u001b[0m \u001b[0mself\u001b[0m\u001b[0;34m.\u001b[0m\u001b[0msend\u001b[0m\u001b[0;34m(\u001b[0m\u001b[0mprep\u001b[0m\u001b[0;34m,\u001b[0m \u001b[0;34m**\u001b[0m\u001b[0msend_kwargs\u001b[0m\u001b[0;34m)\u001b[0m\u001b[0;34m\u001b[0m\u001b[0;34m\u001b[0m\u001b[0m\n\u001b[0m\u001b[1;32m    531\u001b[0m \u001b[0;34m\u001b[0m\u001b[0m\n\u001b[1;32m    532\u001b[0m         \u001b[0;32mreturn\u001b[0m \u001b[0mresp\u001b[0m\u001b[0;34m\u001b[0m\u001b[0;34m\u001b[0m\u001b[0m\n",
            "\u001b[0;32m/usr/local/lib/python3.6/dist-packages/requests/sessions.py\u001b[0m in \u001b[0;36msend\u001b[0;34m(self, request, **kwargs)\u001b[0m\n\u001b[1;32m    641\u001b[0m \u001b[0;34m\u001b[0m\u001b[0m\n\u001b[1;32m    642\u001b[0m         \u001b[0;31m# Send the request\u001b[0m\u001b[0;34m\u001b[0m\u001b[0;34m\u001b[0m\u001b[0;34m\u001b[0m\u001b[0m\n\u001b[0;32m--> 643\u001b[0;31m         \u001b[0mr\u001b[0m \u001b[0;34m=\u001b[0m \u001b[0madapter\u001b[0m\u001b[0;34m.\u001b[0m\u001b[0msend\u001b[0m\u001b[0;34m(\u001b[0m\u001b[0mrequest\u001b[0m\u001b[0;34m,\u001b[0m \u001b[0;34m**\u001b[0m\u001b[0mkwargs\u001b[0m\u001b[0;34m)\u001b[0m\u001b[0;34m\u001b[0m\u001b[0;34m\u001b[0m\u001b[0m\n\u001b[0m\u001b[1;32m    644\u001b[0m \u001b[0;34m\u001b[0m\u001b[0m\n\u001b[1;32m    645\u001b[0m         \u001b[0;31m# Total elapsed time of the request (approximately)\u001b[0m\u001b[0;34m\u001b[0m\u001b[0;34m\u001b[0m\u001b[0;34m\u001b[0m\u001b[0m\n",
            "\u001b[0;32m/usr/local/lib/python3.6/dist-packages/requests/adapters.py\u001b[0m in \u001b[0;36msend\u001b[0;34m(self, request, stream, timeout, verify, cert, proxies)\u001b[0m\n\u001b[1;32m    447\u001b[0m                     \u001b[0mdecode_content\u001b[0m\u001b[0;34m=\u001b[0m\u001b[0;32mFalse\u001b[0m\u001b[0;34m,\u001b[0m\u001b[0;34m\u001b[0m\u001b[0;34m\u001b[0m\u001b[0m\n\u001b[1;32m    448\u001b[0m                     \u001b[0mretries\u001b[0m\u001b[0;34m=\u001b[0m\u001b[0mself\u001b[0m\u001b[0;34m.\u001b[0m\u001b[0mmax_retries\u001b[0m\u001b[0;34m,\u001b[0m\u001b[0;34m\u001b[0m\u001b[0;34m\u001b[0m\u001b[0m\n\u001b[0;32m--> 449\u001b[0;31m                     \u001b[0mtimeout\u001b[0m\u001b[0;34m=\u001b[0m\u001b[0mtimeout\u001b[0m\u001b[0;34m\u001b[0m\u001b[0;34m\u001b[0m\u001b[0m\n\u001b[0m\u001b[1;32m    450\u001b[0m                 )\n\u001b[1;32m    451\u001b[0m \u001b[0;34m\u001b[0m\u001b[0m\n",
            "\u001b[0;32m/usr/local/lib/python3.6/dist-packages/urllib3/connectionpool.py\u001b[0m in \u001b[0;36murlopen\u001b[0;34m(self, method, url, body, headers, retries, redirect, assert_same_host, timeout, pool_timeout, release_conn, chunked, body_pos, **response_kw)\u001b[0m\n\u001b[1;32m    592\u001b[0m             \u001b[0mis_new_proxy_conn\u001b[0m \u001b[0;34m=\u001b[0m \u001b[0mself\u001b[0m\u001b[0;34m.\u001b[0m\u001b[0mproxy\u001b[0m \u001b[0;32mis\u001b[0m \u001b[0;32mnot\u001b[0m \u001b[0;32mNone\u001b[0m \u001b[0;32mand\u001b[0m \u001b[0;32mnot\u001b[0m \u001b[0mgetattr\u001b[0m\u001b[0;34m(\u001b[0m\u001b[0mconn\u001b[0m\u001b[0;34m,\u001b[0m \u001b[0;34m'sock'\u001b[0m\u001b[0;34m,\u001b[0m \u001b[0;32mNone\u001b[0m\u001b[0;34m)\u001b[0m\u001b[0;34m\u001b[0m\u001b[0;34m\u001b[0m\u001b[0m\n\u001b[1;32m    593\u001b[0m             \u001b[0;32mif\u001b[0m \u001b[0mis_new_proxy_conn\u001b[0m\u001b[0;34m:\u001b[0m\u001b[0;34m\u001b[0m\u001b[0;34m\u001b[0m\u001b[0m\n\u001b[0;32m--> 594\u001b[0;31m                 \u001b[0mself\u001b[0m\u001b[0;34m.\u001b[0m\u001b[0m_prepare_proxy\u001b[0m\u001b[0;34m(\u001b[0m\u001b[0mconn\u001b[0m\u001b[0;34m)\u001b[0m\u001b[0;34m\u001b[0m\u001b[0;34m\u001b[0m\u001b[0m\n\u001b[0m\u001b[1;32m    595\u001b[0m \u001b[0;34m\u001b[0m\u001b[0m\n\u001b[1;32m    596\u001b[0m             \u001b[0;31m# Make the request on the httplib connection object.\u001b[0m\u001b[0;34m\u001b[0m\u001b[0;34m\u001b[0m\u001b[0;34m\u001b[0m\u001b[0m\n",
            "\u001b[0;32m/usr/local/lib/python3.6/dist-packages/urllib3/connectionpool.py\u001b[0m in \u001b[0;36m_prepare_proxy\u001b[0;34m(self, conn)\u001b[0m\n\u001b[1;32m    803\u001b[0m         \"\"\"\n\u001b[1;32m    804\u001b[0m         \u001b[0mconn\u001b[0m\u001b[0;34m.\u001b[0m\u001b[0mset_tunnel\u001b[0m\u001b[0;34m(\u001b[0m\u001b[0mself\u001b[0m\u001b[0;34m.\u001b[0m\u001b[0m_proxy_host\u001b[0m\u001b[0;34m,\u001b[0m \u001b[0mself\u001b[0m\u001b[0;34m.\u001b[0m\u001b[0mport\u001b[0m\u001b[0;34m,\u001b[0m \u001b[0mself\u001b[0m\u001b[0;34m.\u001b[0m\u001b[0mproxy_headers\u001b[0m\u001b[0;34m)\u001b[0m\u001b[0;34m\u001b[0m\u001b[0;34m\u001b[0m\u001b[0m\n\u001b[0;32m--> 805\u001b[0;31m         \u001b[0mconn\u001b[0m\u001b[0;34m.\u001b[0m\u001b[0mconnect\u001b[0m\u001b[0;34m(\u001b[0m\u001b[0;34m)\u001b[0m\u001b[0;34m\u001b[0m\u001b[0;34m\u001b[0m\u001b[0m\n\u001b[0m\u001b[1;32m    806\u001b[0m \u001b[0;34m\u001b[0m\u001b[0m\n\u001b[1;32m    807\u001b[0m     \u001b[0;32mdef\u001b[0m \u001b[0m_new_conn\u001b[0m\u001b[0;34m(\u001b[0m\u001b[0mself\u001b[0m\u001b[0;34m)\u001b[0m\u001b[0;34m:\u001b[0m\u001b[0;34m\u001b[0m\u001b[0;34m\u001b[0m\u001b[0m\n",
            "\u001b[0;32m/usr/local/lib/python3.6/dist-packages/urllib3/connection.py\u001b[0m in \u001b[0;36mconnect\u001b[0;34m(self)\u001b[0m\n\u001b[1;32m    299\u001b[0m     \u001b[0;32mdef\u001b[0m \u001b[0mconnect\u001b[0m\u001b[0;34m(\u001b[0m\u001b[0mself\u001b[0m\u001b[0;34m)\u001b[0m\u001b[0;34m:\u001b[0m\u001b[0;34m\u001b[0m\u001b[0;34m\u001b[0m\u001b[0m\n\u001b[1;32m    300\u001b[0m         \u001b[0;31m# Add certificate verification\u001b[0m\u001b[0;34m\u001b[0m\u001b[0;34m\u001b[0m\u001b[0;34m\u001b[0m\u001b[0m\n\u001b[0;32m--> 301\u001b[0;31m         \u001b[0mconn\u001b[0m \u001b[0;34m=\u001b[0m \u001b[0mself\u001b[0m\u001b[0;34m.\u001b[0m\u001b[0m_new_conn\u001b[0m\u001b[0;34m(\u001b[0m\u001b[0;34m)\u001b[0m\u001b[0;34m\u001b[0m\u001b[0;34m\u001b[0m\u001b[0m\n\u001b[0m\u001b[1;32m    302\u001b[0m         \u001b[0mhostname\u001b[0m \u001b[0;34m=\u001b[0m \u001b[0mself\u001b[0m\u001b[0;34m.\u001b[0m\u001b[0mhost\u001b[0m\u001b[0;34m\u001b[0m\u001b[0;34m\u001b[0m\u001b[0m\n\u001b[1;32m    303\u001b[0m \u001b[0;34m\u001b[0m\u001b[0m\n",
            "\u001b[0;32m/usr/local/lib/python3.6/dist-packages/urllib3/connection.py\u001b[0m in \u001b[0;36m_new_conn\u001b[0;34m(self)\u001b[0m\n\u001b[1;32m    157\u001b[0m         \u001b[0;32mtry\u001b[0m\u001b[0;34m:\u001b[0m\u001b[0;34m\u001b[0m\u001b[0;34m\u001b[0m\u001b[0m\n\u001b[1;32m    158\u001b[0m             conn = connection.create_connection(\n\u001b[0;32m--> 159\u001b[0;31m                 (self._dns_host, self.port), self.timeout, **extra_kw)\n\u001b[0m\u001b[1;32m    160\u001b[0m \u001b[0;34m\u001b[0m\u001b[0m\n\u001b[1;32m    161\u001b[0m         \u001b[0;32mexcept\u001b[0m \u001b[0mSocketTimeout\u001b[0m\u001b[0;34m:\u001b[0m\u001b[0;34m\u001b[0m\u001b[0;34m\u001b[0m\u001b[0m\n",
            "\u001b[0;32m/usr/local/lib/python3.6/dist-packages/urllib3/util/connection.py\u001b[0m in \u001b[0;36mcreate_connection\u001b[0;34m(address, timeout, source_address, socket_options)\u001b[0m\n\u001b[1;32m     68\u001b[0m             \u001b[0;32mif\u001b[0m \u001b[0msource_address\u001b[0m\u001b[0;34m:\u001b[0m\u001b[0;34m\u001b[0m\u001b[0;34m\u001b[0m\u001b[0m\n\u001b[1;32m     69\u001b[0m                 \u001b[0msock\u001b[0m\u001b[0;34m.\u001b[0m\u001b[0mbind\u001b[0m\u001b[0;34m(\u001b[0m\u001b[0msource_address\u001b[0m\u001b[0;34m)\u001b[0m\u001b[0;34m\u001b[0m\u001b[0;34m\u001b[0m\u001b[0m\n\u001b[0;32m---> 70\u001b[0;31m             \u001b[0msock\u001b[0m\u001b[0;34m.\u001b[0m\u001b[0mconnect\u001b[0m\u001b[0;34m(\u001b[0m\u001b[0msa\u001b[0m\u001b[0;34m)\u001b[0m\u001b[0;34m\u001b[0m\u001b[0;34m\u001b[0m\u001b[0m\n\u001b[0m\u001b[1;32m     71\u001b[0m             \u001b[0;32mreturn\u001b[0m \u001b[0msock\u001b[0m\u001b[0;34m\u001b[0m\u001b[0;34m\u001b[0m\u001b[0m\n\u001b[1;32m     72\u001b[0m \u001b[0;34m\u001b[0m\u001b[0m\n",
            "\u001b[0;31mKeyboardInterrupt\u001b[0m: "
          ]
        }
      ]
    },
    {
      "cell_type": "code",
      "metadata": {
        "id": "yPVY4ynf6Ija",
        "colab": {
          "base_uri": "https://localhost:8080/",
          "height": 35
        },
        "outputId": "d452a910-8abf-49f7-93c9-c181b3c9e04c"
      },
      "source": [
        "\n",
        "# today = datetime.datetime.now()\n",
        "\n",
        "# time = pd.Timestamp(2019,9,18,hour,min,sec)\n",
        "# str_time = time.strftime(\"%Y%m%d_%H%M%S\")\n",
        "\n",
        "# startdate = '2019-11-01'\n",
        "# enddate = str(today.date())\n",
        "# timerange = startdate + ' ' + enddate\n",
        "# timerange"
      ],
      "execution_count": null,
      "outputs": [
        {
          "output_type": "execute_result",
          "data": {
            "application/vnd.google.colaboratory.intrinsic+json": {
              "type": "string"
            },
            "text/plain": [
              "'2019-11-01 2020-11-08'"
            ]
          },
          "metadata": {
            "tags": []
          },
          "execution_count": 12
        }
      ]
    },
    {
      "cell_type": "code",
      "metadata": {
        "id": "pV18_-YJnF2w",
        "colab": {
          "base_uri": "https://localhost:8080/"
        },
        "outputId": "3664520a-c4c8-4895-d613-dc8d1985e4ea"
      },
      "source": [
        "type(\"UsdfS\") != str"
      ],
      "execution_count": null,
      "outputs": [
        {
          "output_type": "execute_result",
          "data": {
            "text/plain": [
              "False"
            ]
          },
          "metadata": {
            "tags": []
          },
          "execution_count": 6
        }
      ]
    },
    {
      "cell_type": "code",
      "metadata": {
        "id": "XYAxYoWMAw0E"
      },
      "source": [
        "def get_df(startdate, enddate, keyword):\n",
        "  pass\n",
        "\n",
        "def count_over_time(y1,m1,d1, y2,m2,d2, keyword):\n",
        "  startdate = pd.Timestamp(y1,m1,d1).strftime(\"%Y-%m-%d\")\n",
        "  enddate = pd.Timestamp(y2,m2,d2).strftime(\"%Y-%m-%d\")\n",
        "\n",
        "  pytrends = TrendReq(hl='en-US')\n",
        "  timerange = startdate + ' ' + enddate\n",
        "  pytrends.build_payload(keyword, timeframe = timerange)\n",
        "  data =  pytrends.interest_over_time()\n",
        "  data = data[keyword]\n",
        "\n",
        "  return data\n",
        "\n",
        "# def count_by_region(y1,m1,d1, y2,m2,d2, keyword):\n",
        "#   startdate = pd.Timestamp(y1,m1,d1).strftime(\"%Y-%m-%d\")\n",
        "#   enddate = pd.Timestamp(y2,m2,d2).strftime(\"%Y-%m-%d\")\n",
        "\n",
        "#   pytrends = TrendReq(hl='en-US')\n",
        "#   timerange = startdate + ' ' + enddate\n",
        "#   pytrends.build_payload(keyword, timeframe = timerange)\n",
        "#   data =  pytrends.interest_by_region()\n",
        "#   data = data[keyword]\n",
        "\n",
        "#   return data\n",
        "\n",
        "def count_by_region(date, keyword):\n",
        "  startdate = date.strftime(\"%Y-%m-%d\")\n",
        "  # enddate = pd.Timestamp(y2,m2,d2).strftime(\"%Y-%m-%d\")\n",
        "\n",
        "  pytrends = TrendReq(hl='en-US')\n",
        "  timerange = startdate + ' ' + startdate\n",
        "  pytrends.build_payload(keyword, timeframe = timerange)\n",
        "  data =  pytrends.interest_by_region()\n",
        "  data = data[keyword]\n",
        "\n",
        "  return data\n",
        "\n",
        "\n",
        "def count_sum_from(data,y,m,d):\n",
        "  index = data.index >= pd.Timestamp(y,m,d)\n",
        "  count_from = sum(data.iloc[index,0])\n",
        "\n",
        "  return count_from\n",
        "\n",
        "def count_sum_before(data,y,m,d):\n",
        "  index = data.index <= pd.Timestamp(y,m,d)\n",
        "  count_before = sum(data.iloc[index,0])\n",
        "\n",
        "  return count_before\n",
        "\n",
        "def count_sum_between(data,y1,m1,d1,y2,m2,d2):\n",
        "  index = (data.index >= pd.Timestamp(y1,m1,d1)) & (data.index <= pd.Timestamp(y2,m2,d2))\n",
        "  count_between = sum(data.iloc[index,0])\n",
        "\n",
        "  return count_between\n",
        "\n",
        "\n"
      ],
      "execution_count": null,
      "outputs": []
    },
    {
      "cell_type": "code",
      "metadata": {
        "id": "6PAaMg0IAwxM"
      },
      "source": [
        "(data_total.index > pd.Timestamp(2020,7,1)) & (data_total.index < pd.Timestamp(2020,10,1))"
      ],
      "execution_count": null,
      "outputs": []
    },
    {
      "cell_type": "code",
      "metadata": {
        "id": "rC-RP1ckoAu8"
      },
      "source": [
        "pd.set_option('display.max_rows', 100)\n",
        "pd.set_option('display.max_rows', None)"
      ],
      "execution_count": null,
      "outputs": []
    },
    {
      "cell_type": "code",
      "metadata": {
        "id": "ZQVaJzIHAveu"
      },
      "source": [
        "pytrends = TrendReq(hl='en-US')     \n",
        "keyword = [\"coronavirus\"]"
      ],
      "execution_count": null,
      "outputs": []
    },
    {
      "cell_type": "code",
      "metadata": {
        "id": "QqKyPLSQ-gPz",
        "colab": {
          "base_uri": "https://localhost:8080/",
          "height": 169
        },
        "outputId": "2db5fac5-2aec-4d25-86a1-f70c22b57174"
      },
      "source": [
        "# timerange = startdate + ' ' + enddate\n",
        "# timerange\n",
        "# pytrends.build_payload(keyword, timeframe = timerange)\n",
        "\n",
        "data_total = count_over_time(2019,11,1,2020,11,8,keyword)\n",
        "\n",
        "data3 = count_over_time(2020,7,1,2020,11,8,keyword)\n",
        "from_3to_total = count_sum_from(data_total,2020,7,1)*7/count_sum_from(data3,2020,7,1)\n",
        "\n",
        "data2 = count_over_time(2019,11,1,2020,6,30,keyword)\n",
        "from_2to_total = count_sum_before(data_total,2020,6,30)*7/count_sum_before(data2,2020,6,30)\n",
        "\n",
        "data1 = count_over_time(2019,11,1,2020,1,20,keyword)\n",
        "from_1to_total = 0.01 * from_2to_total\n",
        "\n",
        "data0 = count_over_time(2019,11,1,2020,1,8,keyword)\n",
        "from_0to_total = 0.01 * from_1to_total\n",
        "\n",
        "data_reg = pytrends.interest_by_region()\n",
        "region_list = data_reg.index.tolist()\n",
        "\n"
      ],
      "execution_count": null,
      "outputs": [
        {
          "output_type": "error",
          "ename": "NameError",
          "evalue": "ignored",
          "traceback": [
            "\u001b[0;31m---------------------------------------------------------------------------\u001b[0m",
            "\u001b[0;31mNameError\u001b[0m                                 Traceback (most recent call last)",
            "\u001b[0;32m<ipython-input-7-9c9bdfed3e38>\u001b[0m in \u001b[0;36m<module>\u001b[0;34m()\u001b[0m\n\u001b[0;32m----> 1\u001b[0;31m \u001b[0mpytrends\u001b[0m\u001b[0;34m.\u001b[0m\u001b[0minterest_by_region\u001b[0m\u001b[0;34m(\u001b[0m\u001b[0;34m)\u001b[0m\u001b[0;34m\u001b[0m\u001b[0;34m\u001b[0m\u001b[0m\n\u001b[0m",
            "\u001b[0;31mNameError\u001b[0m: name 'pytrends' is not defined"
          ]
        }
      ]
    },
    {
      "cell_type": "code",
      "metadata": {
        "id": "9qlQkFGC79aW"
      },
      "source": [
        "test = count_by_region(datetime(2020,11,1),keyword)"
      ],
      "execution_count": null,
      "outputs": []
    },
    {
      "cell_type": "code",
      "metadata": {
        "id": "8dokmyRY8HZC",
        "colab": {
          "base_uri": "https://localhost:8080/"
        },
        "outputId": "a02efd61-604e-4d1e-dbff-8f953187dba6"
      },
      "source": [
        "type(test)"
      ],
      "execution_count": null,
      "outputs": [
        {
          "output_type": "execute_result",
          "data": {
            "text/plain": [
              "pandas.core.frame.DataFrame"
            ]
          },
          "metadata": {
            "tags": []
          },
          "execution_count": 174
        }
      ]
    },
    {
      "cell_type": "code",
      "metadata": {
        "id": "ksvXkKQQ6Z0u",
        "colab": {
          "base_uri": "https://localhost:8080/"
        },
        "outputId": "ed56127f-8309-4a19-8563-5ac10bede02a"
      },
      "source": [
        "list[2] < datetime(2019,10,11)"
      ],
      "execution_count": null,
      "outputs": [
        {
          "output_type": "execute_result",
          "data": {
            "text/plain": [
              "False"
            ]
          },
          "metadata": {
            "tags": []
          },
          "execution_count": 171
        }
      ]
    },
    {
      "cell_type": "code",
      "metadata": {
        "id": "oviZfOFB9KvR"
      },
      "source": [
        "from random import randint\n",
        "from time import sleep\n",
        "\n",
        "\n",
        "list = pd.date_range(start=\"2019-11-1\",end=\"2020-11-8\").to_pydatetime().tolist()"
      ],
      "execution_count": null,
      "outputs": []
    },
    {
      "cell_type": "code",
      "metadata": {
        "id": "8EXuxV5Pp-pV"
      },
      "source": [
        "total_dataframe = pd.DataFrame(columns=['country'])\n",
        "total_dataframe['country']=region_list\n",
        "\n",
        "count = 0 \n",
        "sleeps = []\n",
        "for date in list:\n",
        "  sleeptime = randint(1,123)/100\n",
        "  colname = date.strftime(\"%Y-%m-%d\")\n",
        "  # print(\"sleeping for:\", sleeptime, \"seconds\")\n",
        "  df = count_by_region(date,['coronavirus'])                      #특정 날의 전세계 데이터\n",
        "  if date <= datetime(2020,1,8):\n",
        "    df /= sum(df.iloc[:,0])                                       #그 날 내에서 각 국가의 검색수를 모든 국가합으로 나눈 것.\n",
        "    df *= data0.at[colname,'coronavirus']                         #각 날의 값의 곱해준다.\n",
        "    df *= from_0to_total                                          #그 날의 값이 전체 timeframe 에서 나타내는 비율이 얼마인지 (위에서 '전체frame 합/국소 frame 합'으로 구한 것)\n",
        "    \n",
        "  elif (date > datetime(2020,1,8)) & (date <= datetime(2020,1,20)):\n",
        "    sleeptime = randint(1,450)/100\n",
        "    df /= sum(df.iloc[:,0])\n",
        "    df *= data1.at[colname,'coronavirus']    \n",
        "    df *= from_1to_total\n",
        "\n",
        "  elif (date > datetime(2020,1,20)) & (date <= datetime(2020,6,30)):\n",
        "    df /= sum(df.iloc[:,0])\n",
        "    df *= data2.at[colname,'coronavirus']\n",
        "    df *= from_2to_total\n",
        "    \n",
        "  elif (date > datetime(2020,6,30)) & (date <= datetime(2020,11,8)):\n",
        "    sleeptime = randint(1,790)/100\n",
        "    df /= sum(df.iloc[:,0])\n",
        "    df *= data3.at[colname,'coronavirus']\n",
        "    df *= from_3to_total\n",
        "  \n",
        "  else:\n",
        "    print(\"something's wrong\")\n",
        "\n",
        "  mini_df = pd.DataFrame(df.iloc[:,0].tolist(),columns=[colname])\n",
        "\n",
        "  if (count/50).is_integer():\n",
        "    print(\"sleeping for:\", sleeptime, \"seconds\")\n",
        "    print(\"we are now at : \", date)\n",
        "    print(\"sleeping is over\")\n",
        "  \n",
        "  total_dataframe = pd.concat([total_dataframe,mini_df], axis=1)\n",
        "  count+=1\n",
        "  sleeps.append(sleeptime)\n",
        "\n",
        "  sleep(sleeptime)\n",
        "  # print(\"sleeping is over\")\n",
        "\n",
        "\n",
        "\n",
        "# pd.timedelta_range(pd.Timestamp(2020,11,1),pd.Timestamp(2020,11,3))\n",
        "\n",
        "# pd.Timestamp(2020,11,8) - pd.Timestamep(2019,11,1)\n",
        "\n"
      ],
      "execution_count": null,
      "outputs": []
    },
    {
      "cell_type": "code",
      "metadata": {
        "id": "VyElRMN-iOtK"
      },
      "source": [
        "# df = total_dataframe['2020-01-09']\n",
        "\n",
        "total_dataframe['2020-01-09']=df"
      ],
      "execution_count": null,
      "outputs": []
    },
    {
      "cell_type": "code",
      "metadata": {
        "id": "Ws19va3AkPhW",
        "colab": {
          "base_uri": "https://localhost:8080/"
        },
        "outputId": "e02445a2-9d00-4ea6-da52-b1f3033bb4fe"
      },
      "source": [
        "# df /= sum(df)              \n",
        "# df *= data1.at['2020-01-09','coronavirus']\n",
        "# df *= from_1to_total                 "
      ],
      "execution_count": null,
      "outputs": [
        {
          "output_type": "execute_result",
          "data": {
            "text/plain": [
              "0.043934821967410984"
            ]
          },
          "metadata": {
            "tags": []
          },
          "execution_count": 327
        }
      ]
    },
    {
      "cell_type": "code",
      "metadata": {
        "id": "gA13HK2BlRqe"
      },
      "source": [
        "total_dataframe.to_csv('./coronavirus/20191101_20201102_ratio.csv', index=False)"
      ],
      "execution_count": null,
      "outputs": []
    },
    {
      "cell_type": "code",
      "metadata": {
        "id": "KyLpl2BznBD_"
      },
      "source": [
        "total_dataframe = pd.read_csv('./coronavirus/20191101_20201102_ratio.csv')"
      ],
      "execution_count": null,
      "outputs": []
    },
    {
      "cell_type": "code",
      "metadata": {
        "id": "B2WSNgwcrNZ9",
        "colab": {
          "base_uri": "https://localhost:8080/"
        },
        "outputId": "e146830b-de49-4b79-dd57-3c8a387f61bb"
      },
      "source": [
        "num = 92101073/(count_sum_before(data_total,2020,11,8)/12)"
      ],
      "execution_count": null,
      "outputs": [
        {
          "output_type": "execute_result",
          "data": {
            "text/plain": [
              "1192246.8996763753"
            ]
          },
          "metadata": {
            "tags": []
          },
          "execution_count": 20
        }
      ]
    },
    {
      "cell_type": "code",
      "metadata": {
        "id": "Bau4A4gplpj7"
      },
      "source": [
        "real_total.iloc[:,1:370] = total_dataframe.iloc[:,1:370] *num\n",
        "\n",
        "# real_total = total_dataframe.apply(lambda x: x*num)"
      ],
      "execution_count": null,
      "outputs": []
    },
    {
      "cell_type": "code",
      "metadata": {
        "id": "vs3ikuKMs2Dd"
      },
      "source": [
        "real_total.to_csv('./coronavirus/20191101_20201102_real.csv', index=False)\n",
        "\n",
        "cum_real_total.to_csv('./coronavirus/20191101_20201102_cum_real.csv', index=False)\n",
        "\n",
        "check.to_csv('./coronavirus/20191101_20201102_cum_real_sorted.csv', index=False)"
      ],
      "execution_count": null,
      "outputs": []
    },
    {
      "cell_type": "code",
      "metadata": {
        "id": "qHE4Pm-Ruv7K"
      },
      "source": [
        "cum_real_total = real_total"
      ],
      "execution_count": null,
      "outputs": []
    },
    {
      "cell_type": "code",
      "metadata": {
        "id": "OTaoX5NP4TQx"
      },
      "source": [
        "df2=pd.DataFrame(names, columns=['names'])\n",
        "\n",
        "check = df2.merge(cum_real_total,left_on='names', right_on = 'country').drop('names',axis=1)"
      ],
      "execution_count": null,
      "outputs": []
    },
    {
      "cell_type": "code",
      "metadata": {
        "id": "9RR8Mmk14T0s"
      },
      "source": [
        ""
      ],
      "execution_count": null,
      "outputs": []
    },
    {
      "cell_type": "code",
      "metadata": {
        "id": "LYoBeNbE4TWS"
      },
      "source": [
        ""
      ],
      "execution_count": null,
      "outputs": []
    },
    {
      "cell_type": "code",
      "metadata": {
        "id": "TMY4oLoe4TT7"
      },
      "source": [
        ""
      ],
      "execution_count": null,
      "outputs": []
    },
    {
      "cell_type": "code",
      "metadata": {
        "id": "d7DbLsFHwBeJ"
      },
      "source": [
        "names =[\"Angola\",\n",
        "\"Burundi\",\n",
        "\"Benin\",\n",
        "\"Burkina Faso\",\n",
        "\"Botswana\",\n",
        "\"Central African Republic\",\n",
        "\"Côte d’Ivoire\",\n",
        "\"Cameroon\",\n",
        "\"Congo - Kinshasa\",\n",
        "\"Congo - Brazzaville\",\n",
        "\"Comoros\",\n",
        "\"Cape Verde\",\n",
        "\"Djibouti\",\n",
        "\"Algeria\",\n",
        "\"Egypt\",\n",
        "\"Eritrea\",\n",
        "\"Ethiopia\",\n",
        "\"Gabon\",\n",
        "\"Ghana\",\n",
        "\"Guinea\",\n",
        "\"Gambia\",\n",
        "\"Guinea-Bissau\",\n",
        "\"Equatorial Guinea\",\n",
        "\"Kenya\",\n",
        "\"Liberia\",\n",
        "\"Libya\",\n",
        "\"Lesotho\",\n",
        "\"Morocco\",\n",
        "\"Madagascar\",\n",
        "\"Mali\",\n",
        "\"Mozambique\",\n",
        "\"Mauritania\",\n",
        "\"Mauritius\",\n",
        "\"Malawi\",\n",
        "\"Namibia\",\n",
        "\"Niger\",\n",
        "\"Nigeria\",\n",
        "\"Rwanda\",\n",
        "\"Sudan\",\n",
        "\"Senegal\",\n",
        "\"Sierra Leone\",\n",
        "\"Somalia\",\n",
        "\"South Sudan\",\n",
        "\"São Tomé & Príncipe\",\n",
        "\"Eswatini\",\n",
        "\"Seychelles\",\n",
        "\"Chad\",\n",
        "\"Togo\",\n",
        "\"Tunisia\",\n",
        "\"Tanzania\",\n",
        "\"Uganda\",\n",
        "\"South Africa\",\n",
        "\"Zambia\",\n",
        "\"Zimbabwe\",\n",
        "\"Aruba\",\n",
        "\"Argentina\",\n",
        "\"Antigua & Barbuda\",\n",
        "\"Bahamas\",\n",
        "\"Belize\",\n",
        "\"Bermuda\",\n",
        "\"Bolivia\",\n",
        "\"Brazil\",\n",
        "\"Barbados\",\n",
        "\"Canada\",\n",
        "\"Chile\",\n",
        "\"Colombia\",\n",
        "\"Costa Rica\",\n",
        "\"Cuba\",\n",
        "\"Curaçao\",\n",
        "\"Cayman Islands\",\n",
        "\"Dominica\",\n",
        "\"Dominican Republic\",\n",
        "\"Ecuador\",\n",
        "\"Grenada\",\n",
        "\"Greenland\",\n",
        "\"Guatemala\",\n",
        "\"Guyana\",\n",
        "\"Honduras\",\n",
        "\"Haiti\",\n",
        "\"Jamaica\",\n",
        "\"St. Kitts & Nevis\",\n",
        "\"St. Lucia\",\n",
        "\"St. Martin\",\n",
        "\"Mexico\",\n",
        "\"Nicaragua\",\n",
        "\"Panama\",\n",
        "\"Peru\",\n",
        "\"Puerto Rico\",\n",
        "\"Paraguay\",\n",
        "\"El Salvador\",\n",
        "\"Suriname\",\n",
        "\"Sint Maarten\",\n",
        "\"Turks & Caicos Islands\",\n",
        "\"Trinidad & Tobago\",\n",
        "\"Uruguay\",\n",
        "\"United States\",\n",
        "\"St. Vincent & Grenadines\",\n",
        "\"Venezuela\",\n",
        "\"British Virgin Islands\",\n",
        "\"U.S. Virgin Islands\",\n",
        "\"Afghanistan\",\n",
        "\"United Arab Emirates\",\n",
        "\"Armenia\",\n",
        "\"Azerbaijan\",\n",
        "\"Bangladesh\",\n",
        "\"Bahrain\",\n",
        "\"Brunei\",\n",
        "\"Bhutan\",\n",
        "\"China\",\n",
        "\"Cyprus\",\n",
        "\"Georgia\",\n",
        "\"Hong Kong\",\n",
        "\"Indonesia\",\n",
        "\"India\",\n",
        "\"Iran\",\n",
        "\"Iraq\",\n",
        "\"Israel\",\n",
        "\"Jordan\",\n",
        "\"Japan\",\n",
        "\"Kazakhstan\",\n",
        "\"Kyrgyzstan\",\n",
        "\"Cambodia\",\n",
        "\"South Korea\",\n",
        "\"Kuwait\",\n",
        "\"Laos\",\n",
        "\"Lebanon\",\n",
        "\"Sri Lanka\",\n",
        "\"Macao\",\n",
        "\"Maldives\",\n",
        "\"Myanmar (Burma)\",\n",
        "\"Mongolia\",\n",
        "\"Malaysia\",\n",
        "\"Nepal\",\n",
        "\"Oman\",\n",
        "\"Pakistan\",\n",
        "\"Philippines\",\n",
        "\"North Korea\",\n",
        "\"West Bank and Gaza\",\n",
        "\"Qatar\",\n",
        "\"Saudi Arabia\",\n",
        "\"Singapore\",\n",
        "\"Syria\",\n",
        "\"Thailand\",\n",
        "\"Tajikistan\",\n",
        "\"Turkmenistan\",\n",
        "\"Timor-Leste\",\n",
        "\"Turkey\",\n",
        "\"Uzbekistan\",\n",
        "\"Vietnam\",\n",
        "\"Yemen\",\n",
        "\"Albania\",\n",
        "\"Andorra\",\n",
        "\"Austria\",\n",
        "\"Belgium\",\n",
        "\"Bulgaria\",\n",
        "\"Bosnia & Herzegovina\",\n",
        "\"Belarus\",\n",
        "\"Switzerland\",\n",
        "\"Czechia\",\n",
        "\"Germany\",\n",
        "\"Denmark\",\n",
        "\"Spain\",\n",
        "\"Estonia\",\n",
        "\"Finland\",\n",
        "\"France\",\n",
        "\"Faroe Islands\",\n",
        "\"United Kingdom\",\n",
        "\"Gibraltar\",\n",
        "\"Greece\",\n",
        "\"Croatia\",\n",
        "\"Hungary\",\n",
        "\"Isle of Man\",\n",
        "\"Ireland\",\n",
        "\"Iceland\",\n",
        "\"Italy\",\n",
        "\"Liechtenstein\",\n",
        "\"Lithuania\",\n",
        "\"Luxembourg\",\n",
        "\"Latvia\",\n",
        "\"Monaco\",\n",
        "\"Moldova\",\n",
        "\"North Macedonia\",\n",
        "\"Malta\",\n",
        "\"Montenegro\",\n",
        "\"Netherlands\",\n",
        "\"Norway\",\n",
        "\"Poland\",\n",
        "\"Portugal\",\n",
        "\"Romania\",\n",
        "\"Russia\",\n",
        "\"San Marino\",\n",
        "\"Serbia\",\n",
        "\"Slovakia\",\n",
        "\"Slovenia\",\n",
        "\"Sweden\",\n",
        "\"Ukraine\",\n",
        "\"American Samoa\",\n",
        "\"Australia\",\n",
        "\"Fiji\",\n",
        "\"Micronesia\",\n",
        "\"Guam\",\n",
        "\"Kiribati\",\n",
        "\"Marshall Islands\",\n",
        "\"Northern Mariana Islands\",\n",
        "\"New Caledonia\",\n",
        "\"Nauru\",\n",
        "\"New Zealand\",\n",
        "\"Palau\",\n",
        "\"Papua New Guinea\",\n",
        "\"French Polynesia\",\n",
        "\"Solomon Islands\",\n",
        "\"Tonga\",\n",
        "\"Tuvalu\",\n",
        "\"Vanuatu\",\n",
        "\"Samoa\"]"
      ],
      "execution_count": null,
      "outputs": []
    },
    {
      "cell_type": "code",
      "metadata": {
        "id": "rqDREsohu0GI"
      },
      "source": [
        "for i in range(367):\n",
        "  delta = cum_real_total.iloc[:,i+2]\n",
        "  cum_real_total.iloc[:,i+2]=delta + cum_real_total.iloc[:,i+1]"
      ],
      "execution_count": null,
      "outputs": []
    },
    {
      "cell_type": "code",
      "metadata": {
        "id": "NrwUDJB6tmvH",
        "colab": {
          "base_uri": "https://localhost:8080/",
          "height": 294
        },
        "outputId": "9883e9d4-5fc5-4dc9-abfb-f1a662e35bfc"
      },
      "source": [
        "import matplotlib.pyplot as plt\n",
        "\n",
        "plt.figure(figsize=(18,4))\n",
        "\n",
        "plt.scatter(x=range(368), y=cum_real_total.iloc[237,1:])"
      ],
      "execution_count": null,
      "outputs": [
        {
          "output_type": "execute_result",
          "data": {
            "text/plain": [
              "<matplotlib.collections.PathCollection at 0x7f7e7856b278>"
            ]
          },
          "metadata": {
            "tags": []
          },
          "execution_count": 61
        },
        {
          "output_type": "display_data",
          "data": {
            "image/png": "[encoded data removed]",
            "text/plain": [
              "<Figure size 1296x288 with 1 Axes>"
            ]
          },
          "metadata": {
            "tags": [],
            "needs_background": "light"
          }
        }
      ]
    },
    {
      "cell_type": "code",
      "metadata": {
        "id": "w95cHSeRtmsr"
      },
      "source": [
        ""
      ],
      "execution_count": null,
      "outputs": []
    },
    {
      "cell_type": "code",
      "metadata": {
        "id": "6CGVFcv3p-m9",
        "colab": {
          "base_uri": "https://localhost:8080/"
        },
        "outputId": "7f59eb48-b9de-4ebd-c1b1-801f0aa8c3dc"
      },
      "source": [
        "print(sum(total_dataframe['2020-01-09']))\n",
        "print(sum(total_dataframe['2020-08-28']))\n",
        "print(sum(total_dataframe['2020-08-29']))\n",
        "print(sum(total_dataframe['2020-08-30']))\n",
        "print(sum(total_dataframe['2020-08-31']))\n",
        "\n",
        "data3.loc['2020-08-27':'2020-08-31']"
      ],
      "execution_count": null,
      "outputs": [
        {
          "output_type": "stream",
          "text": [
            "0.043934821967410984\n"
          ],
          "name": "stdout"
        }
      ]
    },
    {
      "cell_type": "code",
      "metadata": {
        "id": "fgsYVWcpXAAg",
        "colab": {
          "base_uri": "https://localhost:8080/",
          "height": 446
        },
        "outputId": "323e2c66-8eb0-46fa-c84c-822f7959ef21"
      },
      "source": [
        "import numpy as np\n",
        "import matplotlib.pyplot as plt\n",
        "\n",
        "plt.figure(figsize=(18,7))\n",
        "plt.scatter(x=range(len(sleeps)), y=np.asarray(sleeps))"
      ],
      "execution_count": null,
      "outputs": [
        {
          "output_type": "execute_result",
          "data": {
            "text/plain": [
              "<matplotlib.collections.PathCollection at 0x7f9914f06828>"
            ]
          },
          "metadata": {
            "tags": []
          },
          "execution_count": 319
        },
        {
          "output_type": "display_data",
          "data": {
            "image/png": "[encoded data removed]",
            "text/plain": [
              "<Figure size 1296x504 with 1 Axes>"
            ]
          },
          "metadata": {
            "tags": [],
            "needs_background": "light"
          }
        }
      ]
    },
    {
      "cell_type": "code",
      "metadata": {
        "id": "8Ghxcjev-gUn",
        "colab": {
          "base_uri": "https://localhost:8080/",
          "height": 431
        },
        "outputId": "de4f5145-fc32-41e3-c03a-305297821a6e"
      },
      "source": [
        "data = data.drop('isPartial', axis=1)\n"
      ],
      "execution_count": null,
      "outputs": [
        {
          "output_type": "execute_result",
          "data": {
            "text/html": [
              "<div>\n",
              "<style scoped>\n",
              "    .dataframe tbody tr th:only-of-type {\n",
              "        vertical-align: middle;\n",
              "    }\n",
              "\n",
              "    .dataframe tbody tr th {\n",
              "        vertical-align: top;\n",
              "    }\n",
              "\n",
              "    .dataframe thead th {\n",
              "        text-align: right;\n",
              "    }\n",
              "</style>\n",
              "<table border=\"1\" class=\"dataframe\">\n",
              "  <thead>\n",
              "    <tr style=\"text-align: right;\">\n",
              "      <th></th>\n",
              "      <th>coronavirus</th>\n",
              "    </tr>\n",
              "    <tr>\n",
              "      <th>date</th>\n",
              "      <th></th>\n",
              "    </tr>\n",
              "  </thead>\n",
              "  <tbody>\n",
              "    <tr>\n",
              "      <th>2020-07-01</th>\n",
              "      <td>87</td>\n",
              "    </tr>\n",
              "    <tr>\n",
              "      <th>2020-07-02</th>\n",
              "      <td>87</td>\n",
              "    </tr>\n",
              "    <tr>\n",
              "      <th>2020-07-03</th>\n",
              "      <td>86</td>\n",
              "    </tr>\n",
              "    <tr>\n",
              "      <th>2020-07-04</th>\n",
              "      <td>86</td>\n",
              "    </tr>\n",
              "    <tr>\n",
              "      <th>2020-07-05</th>\n",
              "      <td>100</td>\n",
              "    </tr>\n",
              "    <tr>\n",
              "      <th>...</th>\n",
              "      <td>...</td>\n",
              "    </tr>\n",
              "    <tr>\n",
              "      <th>2020-10-29</th>\n",
              "      <td>52</td>\n",
              "    </tr>\n",
              "    <tr>\n",
              "      <th>2020-10-30</th>\n",
              "      <td>50</td>\n",
              "    </tr>\n",
              "    <tr>\n",
              "      <th>2020-10-31</th>\n",
              "      <td>55</td>\n",
              "    </tr>\n",
              "    <tr>\n",
              "      <th>2020-11-01</th>\n",
              "      <td>52</td>\n",
              "    </tr>\n",
              "    <tr>\n",
              "      <th>2020-11-02</th>\n",
              "      <td>50</td>\n",
              "    </tr>\n",
              "  </tbody>\n",
              "</table>\n",
              "<p>125 rows × 1 columns</p>\n",
              "</div>"
            ],
            "text/plain": [
              "            coronavirus\n",
              "date                   \n",
              "2020-07-01           87\n",
              "2020-07-02           87\n",
              "2020-07-03           86\n",
              "2020-07-04           86\n",
              "2020-07-05          100\n",
              "...                 ...\n",
              "2020-10-29           52\n",
              "2020-10-30           50\n",
              "2020-10-31           55\n",
              "2020-11-01           52\n",
              "2020-11-02           50\n",
              "\n",
              "[125 rows x 1 columns]"
            ]
          },
          "metadata": {
            "tags": []
          },
          "execution_count": 278
        }
      ]
    },
    {
      "cell_type": "code",
      "metadata": {
        "id": "rQXPHtzz-gZ6"
      },
      "source": [
        ""
      ],
      "execution_count": null,
      "outputs": []
    },
    {
      "cell_type": "code",
      "metadata": {
        "id": "5w5su1kW-gSC"
      },
      "source": [
        ""
      ],
      "execution_count": null,
      "outputs": []
    },
    {
      "cell_type": "code",
      "metadata": {
        "id": "rLJrgmv6-5om"
      },
      "source": [
        ""
      ],
      "execution_count": null,
      "outputs": []
    },
    {
      "cell_type": "code",
      "metadata": {
        "id": "Um6ApcxY-5tM"
      },
      "source": [
        ""
      ],
      "execution_count": null,
      "outputs": []
    },
    {
      "cell_type": "code",
      "metadata": {
        "id": "fg6VKjnK-50M"
      },
      "source": [
        ""
      ],
      "execution_count": null,
      "outputs": []
    },
    {
      "cell_type": "code",
      "metadata": {
        "id": "xPvTXY-a-52d"
      },
      "source": [
        ""
      ],
      "execution_count": null,
      "outputs": []
    },
    {
      "cell_type": "code",
      "metadata": {
        "id": "4tEnramq-5x7"
      },
      "source": [
        ""
      ],
      "execution_count": null,
      "outputs": []
    },
    {
      "cell_type": "code",
      "metadata": {
        "id": "RYJByXzY-5rD"
      },
      "source": [
        ""
      ],
      "execution_count": null,
      "outputs": []
    },
    {
      "cell_type": "code",
      "metadata": {
        "id": "-ajPmn3U-5mK"
      },
      "source": [
        ""
      ],
      "execution_count": null,
      "outputs": []
    },
    {
      "cell_type": "code",
      "metadata": {
        "id": "npg3ZENI6IhA"
      },
      "source": [
        "# 전세계의 데이터 추출\n",
        "\n",
        "result = pd.DataFrame()\n",
        "\n",
        "#data request\n",
        "pytrend.build_payload(kw_list=keyword, timeframe = timerange)\n",
        "\n"
      ],
      "execution_count": null,
      "outputs": []
    },
    {
      "cell_type": "code",
      "metadata": {
        "id": "5CvM9MWn6Ied",
        "colab": {
          "base_uri": "https://localhost:8080/",
          "height": 431
        },
        "outputId": "28d1b1d1-3f37-4f5c-ebbb-81feecc58323"
      },
      "source": [
        "data = pytrend.interest_by_region()"
      ],
      "execution_count": null,
      "outputs": [
        {
          "output_type": "execute_result",
          "data": {
            "text/html": [
              "<div>\n",
              "<style scoped>\n",
              "    .dataframe tbody tr th:only-of-type {\n",
              "        vertical-align: middle;\n",
              "    }\n",
              "\n",
              "    .dataframe tbody tr th {\n",
              "        vertical-align: top;\n",
              "    }\n",
              "\n",
              "    .dataframe thead th {\n",
              "        text-align: right;\n",
              "    }\n",
              "</style>\n",
              "<table border=\"1\" class=\"dataframe\">\n",
              "  <thead>\n",
              "    <tr style=\"text-align: right;\">\n",
              "      <th></th>\n",
              "      <th>coronavirus</th>\n",
              "    </tr>\n",
              "    <tr>\n",
              "      <th>geoName</th>\n",
              "      <th></th>\n",
              "    </tr>\n",
              "  </thead>\n",
              "  <tbody>\n",
              "    <tr>\n",
              "      <th>Afghanistan</th>\n",
              "      <td>0</td>\n",
              "    </tr>\n",
              "    <tr>\n",
              "      <th>Albania</th>\n",
              "      <td>0</td>\n",
              "    </tr>\n",
              "    <tr>\n",
              "      <th>Algeria</th>\n",
              "      <td>23</td>\n",
              "    </tr>\n",
              "    <tr>\n",
              "      <th>American Samoa</th>\n",
              "      <td>0</td>\n",
              "    </tr>\n",
              "    <tr>\n",
              "      <th>Andorra</th>\n",
              "      <td>0</td>\n",
              "    </tr>\n",
              "    <tr>\n",
              "      <th>...</th>\n",
              "      <td>...</td>\n",
              "    </tr>\n",
              "    <tr>\n",
              "      <th>Western Sahara</th>\n",
              "      <td>0</td>\n",
              "    </tr>\n",
              "    <tr>\n",
              "      <th>Yemen</th>\n",
              "      <td>0</td>\n",
              "    </tr>\n",
              "    <tr>\n",
              "      <th>Zambia</th>\n",
              "      <td>0</td>\n",
              "    </tr>\n",
              "    <tr>\n",
              "      <th>Zimbabwe</th>\n",
              "      <td>0</td>\n",
              "    </tr>\n",
              "    <tr>\n",
              "      <th>Åland Islands</th>\n",
              "      <td>0</td>\n",
              "    </tr>\n",
              "  </tbody>\n",
              "</table>\n",
              "<p>250 rows × 1 columns</p>\n",
              "</div>"
            ],
            "text/plain": [
              "                coronavirus\n",
              "geoName                    \n",
              "Afghanistan               0\n",
              "Albania                   0\n",
              "Algeria                  23\n",
              "American Samoa            0\n",
              "Andorra                   0\n",
              "...                     ...\n",
              "Western Sahara            0\n",
              "Yemen                     0\n",
              "Zambia                    0\n",
              "Zimbabwe                  0\n",
              "Åland Islands             0\n",
              "\n",
              "[250 rows x 1 columns]"
            ]
          },
          "metadata": {
            "tags": []
          },
          "execution_count": 43
        }
      ]
    },
    {
      "cell_type": "code",
      "metadata": {
        "id": "Pi2Mu_Rr6Ib0"
      },
      "source": [
        ""
      ],
      "execution_count": null,
      "outputs": []
    },
    {
      "cell_type": "code",
      "metadata": {
        "id": "9PO2ychA6IZO"
      },
      "source": [
        ""
      ],
      "execution_count": null,
      "outputs": []
    }
  ]
}